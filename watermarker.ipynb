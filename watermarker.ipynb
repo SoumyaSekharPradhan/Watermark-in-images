{
 "cells": [
  {
   "cell_type": "code",
   "execution_count": 2,
   "metadata": {},
   "outputs": [],
   "source": [
    "from tensorflow import keras\n",
    "from keras.preprocessing.image import ImageDataGenerator\n",
    "from keras.models import Sequential\n",
    "from keras.layers import Conv2D, MaxPooling2D\n",
    "from keras.layers import Activation, Dropout, Flatten, Dense\n",
    "from keras import backend as k\n",
    "import numpy as np\n",
    "from keras.preprocessing import image"
   ]
  },
  {
   "cell_type": "code",
   "execution_count": 3,
   "metadata": {},
   "outputs": [],
   "source": [
    "img_width, img_height = 150, 150\n",
    "\n",
    "train_data_dir = 'dataset/train'\n",
    "valid_data_dir = 'dataset/valid'\n",
    "nb_train_samples = 140\n",
    "nb_validation_samples = 20\n",
    "epochs = 50\n",
    "batch_size = 5"
   ]
  },
  {
   "cell_type": "code",
   "execution_count": 4,
   "metadata": {},
   "outputs": [],
   "source": [
    "if k.image_data_format=='Channels_first':\n",
    "    input_shape = (3, img_width, img_height)\n",
    "else:\n",
    "    input_shape = (img_width, img_height, 3)"
   ]
  },
  {
   "cell_type": "code",
   "execution_count": 5,
   "metadata": {},
   "outputs": [],
   "source": [
    "train_datagen = ImageDataGenerator(\n",
    "    rescale= 1. / 255,\n",
    "    shear_range = 0.2,\n",
    "    zoom_range = 0.2,\n",
    "    horizontal_flip = True\n",
    ")\n",
    "\n",
    "test_datagen = ImageDataGenerator(rescale=1./255)"
   ]
  },
  {
   "cell_type": "code",
   "execution_count": 6,
   "metadata": {},
   "outputs": [
    {
     "name": "stdout",
     "output_type": "stream",
     "text": [
      "Found 280 images belonging to 2 classes.\n",
      "Found 40 images belonging to 2 classes.\n"
     ]
    }
   ],
   "source": [
    "train_generator = train_datagen.flow_from_directory(\n",
    "    train_data_dir,\n",
    "    target_size = (img_width, img_height),\n",
    "    batch_size = batch_size,\n",
    "    class_mode = 'binary'\n",
    ")\n",
    "\n",
    "validation_generator = test_datagen.flow_from_directory(\n",
    "    valid_data_dir,\n",
    "    target_size = (img_width, img_height),\n",
    "    batch_size = batch_size,\n",
    "    class_mode = 'binary'\n",
    ")"
   ]
  },
  {
   "cell_type": "code",
   "execution_count": 7,
   "metadata": {},
   "outputs": [
    {
     "name": "stdout",
     "output_type": "stream",
     "text": [
      "Model: \"sequential\"\n",
      "_________________________________________________________________\n",
      "Layer (type)                 Output Shape              Param #   \n",
      "=================================================================\n",
      "conv2d (Conv2D)              (None, 148, 148, 32)      896       \n",
      "_________________________________________________________________\n",
      "activation (Activation)      (None, 148, 148, 32)      0         \n",
      "_________________________________________________________________\n",
      "max_pooling2d (MaxPooling2D) (None, 74, 74, 32)        0         \n",
      "=================================================================\n",
      "Total params: 896\n",
      "Trainable params: 896\n",
      "Non-trainable params: 0\n",
      "_________________________________________________________________\n",
      "Model: \"sequential\"\n",
      "_________________________________________________________________\n",
      "Layer (type)                 Output Shape              Param #   \n",
      "=================================================================\n",
      "conv2d (Conv2D)              (None, 148, 148, 32)      896       \n",
      "_________________________________________________________________\n",
      "activation (Activation)      (None, 148, 148, 32)      0         \n",
      "_________________________________________________________________\n",
      "max_pooling2d (MaxPooling2D) (None, 74, 74, 32)        0         \n",
      "_________________________________________________________________\n",
      "conv2d_1 (Conv2D)            (None, 72, 72, 32)        9248      \n",
      "_________________________________________________________________\n",
      "activation_1 (Activation)    (None, 72, 72, 32)        0         \n",
      "_________________________________________________________________\n",
      "max_pooling2d_1 (MaxPooling2 (None, 36, 36, 32)        0         \n",
      "_________________________________________________________________\n",
      "conv2d_2 (Conv2D)            (None, 34, 34, 64)        18496     \n",
      "_________________________________________________________________\n",
      "activation_2 (Activation)    (None, 34, 34, 64)        0         \n",
      "_________________________________________________________________\n",
      "max_pooling2d_2 (MaxPooling2 (None, 17, 17, 64)        0         \n",
      "_________________________________________________________________\n",
      "flatten (Flatten)            (None, 18496)             0         \n",
      "_________________________________________________________________\n",
      "dense (Dense)                (None, 64)                1183808   \n",
      "_________________________________________________________________\n",
      "activation_3 (Activation)    (None, 64)                0         \n",
      "_________________________________________________________________\n",
      "dropout (Dropout)            (None, 64)                0         \n",
      "_________________________________________________________________\n",
      "dense_1 (Dense)              (None, 1)                 65        \n",
      "_________________________________________________________________\n",
      "activation_4 (Activation)    (None, 1)                 0         \n",
      "=================================================================\n",
      "Total params: 1,212,513\n",
      "Trainable params: 1,212,513\n",
      "Non-trainable params: 0\n",
      "_________________________________________________________________\n"
     ]
    }
   ],
   "source": [
    "#Create Model\n",
    "model= Sequential()\n",
    "model.add( Conv2D(32, (3,3), input_shape=input_shape))\n",
    "model.add( Activation('relu'))\n",
    "model.add( MaxPooling2D( pool_size=(2,2)))\n",
    "\n",
    "model.summary()\n",
    "\n",
    "model.add( Conv2D(32, (3,3)))\n",
    "model.add( Activation('relu'))\n",
    "model.add( MaxPooling2D( pool_size=(2,2)))\n",
    "\n",
    "model.add( Conv2D(64, (3,3)))\n",
    "model.add( Activation('relu'))\n",
    "model.add( MaxPooling2D( pool_size=(2,2)))\n",
    "\n",
    "model.add( Flatten())\n",
    "model.add( Dense(64))\n",
    "model.add( Activation('relu'))\n",
    "model.add( Dropout(0.5))\n",
    "model.add( Dense(1))\n",
    "model.add( Activation('sigmoid'))\n",
    "\n",
    "model.summary()\n",
    "\n",
    "model.compile(loss= 'binary_crossentropy',\n",
    "              optimizer= 'rmsprop',\n",
    "              metrics=['accuracy'])\n"
   ]
  },
  {
   "cell_type": "code",
   "execution_count": 12,
   "metadata": {},
   "outputs": [
    {
     "name": "stderr",
     "output_type": "stream",
     "text": [
      "C:\\Users\\Soumya Sekhar\\anaconda3\\lib\\site-packages\\keras\\engine\\training.py:1915: UserWarning: `Model.fit_generator` is deprecated and will be removed in a future version. Please use `Model.fit`, which supports generators.\n",
      "  warnings.warn('`Model.fit_generator` is deprecated and '\n",
      "Epoch 1/50\n",
      "28/28 [==============================] - 38s 1s/step - loss: 0.3716 - accuracy: 0.8500 - val_loss: 0.3886 - val_accuracy: 0.8500\n",
      "Epoch 2/50\n",
      "28/28 [==============================] - 25s 871ms/step - loss: 0.3917 - accuracy: 0.8000 - val_loss: 0.8182 - val_accuracy: 0.8000\n",
      "Epoch 3/50\n",
      "28/28 [==============================] - 20s 722ms/step - loss: 0.4755 - accuracy: 0.8000 - val_loss: 0.2578 - val_accuracy: 0.8500\n",
      "Epoch 4/50\n",
      "28/28 [==============================] - 23s 818ms/step - loss: 0.3942 - accuracy: 0.8500 - val_loss: 0.3717 - val_accuracy: 0.9000\n",
      "Epoch 5/50\n",
      "28/28 [==============================] - 23s 820ms/step - loss: 0.4494 - accuracy: 0.7857 - val_loss: 0.6686 - val_accuracy: 0.8000\n",
      "Epoch 6/50\n",
      "28/28 [==============================] - 16s 570ms/step - loss: 0.4756 - accuracy: 0.7929 - val_loss: 0.4453 - val_accuracy: 0.8000\n",
      "Epoch 7/50\n",
      "28/28 [==============================] - 14s 515ms/step - loss: 0.5171 - accuracy: 0.7643 - val_loss: 0.3282 - val_accuracy: 0.9000\n",
      "Epoch 8/50\n",
      "28/28 [==============================] - 17s 606ms/step - loss: 0.4961 - accuracy: 0.7500 - val_loss: 0.2902 - val_accuracy: 0.9000\n",
      "Epoch 9/50\n",
      "28/28 [==============================] - 14s 498ms/step - loss: 0.5079 - accuracy: 0.8429 - val_loss: 0.4761 - val_accuracy: 0.8000\n",
      "Epoch 10/50\n",
      "28/28 [==============================] - 13s 467ms/step - loss: 0.4061 - accuracy: 0.8000 - val_loss: 0.4464 - val_accuracy: 0.8000\n",
      "Epoch 11/50\n",
      "28/28 [==============================] - 13s 471ms/step - loss: 0.4578 - accuracy: 0.8000 - val_loss: 0.4407 - val_accuracy: 0.7500\n",
      "Epoch 12/50\n",
      "28/28 [==============================] - 19s 672ms/step - loss: 0.4527 - accuracy: 0.8071 - val_loss: 0.3083 - val_accuracy: 0.8500\n",
      "Epoch 13/50\n",
      "28/28 [==============================] - 20s 728ms/step - loss: 0.5203 - accuracy: 0.7643 - val_loss: 0.2927 - val_accuracy: 0.8500\n",
      "Epoch 14/50\n",
      "28/28 [==============================] - 18s 625ms/step - loss: 0.4393 - accuracy: 0.7786 - val_loss: 0.3895 - val_accuracy: 0.8500\n",
      "Epoch 15/50\n",
      "28/28 [==============================] - 11s 390ms/step - loss: 0.3109 - accuracy: 0.8929 - val_loss: 0.3279 - val_accuracy: 0.8000\n",
      "Epoch 16/50\n",
      "28/28 [==============================] - 12s 426ms/step - loss: 0.3737 - accuracy: 0.8786 - val_loss: 0.4314 - val_accuracy: 0.7500\n",
      "Epoch 17/50\n",
      "28/28 [==============================] - 12s 431ms/step - loss: 0.5846 - accuracy: 0.7143 - val_loss: 0.1881 - val_accuracy: 0.9000\n",
      "Epoch 18/50\n",
      "28/28 [==============================] - 14s 508ms/step - loss: 0.3506 - accuracy: 0.8714 - val_loss: 0.4867 - val_accuracy: 0.8500\n",
      "Epoch 19/50\n",
      "28/28 [==============================] - 12s 419ms/step - loss: 0.5067 - accuracy: 0.8143 - val_loss: 0.3442 - val_accuracy: 0.9000\n",
      "Epoch 20/50\n",
      "28/28 [==============================] - 17s 600ms/step - loss: 0.4273 - accuracy: 0.7571 - val_loss: 0.5123 - val_accuracy: 0.7500\n",
      "Epoch 21/50\n",
      "28/28 [==============================] - 13s 453ms/step - loss: 0.3959 - accuracy: 0.8286 - val_loss: 0.2117 - val_accuracy: 0.9500\n",
      "Epoch 22/50\n",
      "28/28 [==============================] - 21s 755ms/step - loss: 0.3875 - accuracy: 0.8000 - val_loss: 0.3778 - val_accuracy: 0.9000\n",
      "Epoch 23/50\n",
      "28/28 [==============================] - 20s 704ms/step - loss: 0.4271 - accuracy: 0.8000 - val_loss: 0.1829 - val_accuracy: 0.9000\n",
      "Epoch 24/50\n",
      "28/28 [==============================] - 16s 580ms/step - loss: 0.4387 - accuracy: 0.8071 - val_loss: 0.3846 - val_accuracy: 0.8500\n",
      "Epoch 25/50\n",
      "28/28 [==============================] - 24s 844ms/step - loss: 0.4725 - accuracy: 0.8286 - val_loss: 0.5524 - val_accuracy: 0.8500\n",
      "Epoch 26/50\n",
      "28/28 [==============================] - 16s 582ms/step - loss: 0.4203 - accuracy: 0.8143 - val_loss: 0.7742 - val_accuracy: 0.9000\n",
      "Epoch 27/50\n",
      "28/28 [==============================] - 11s 390ms/step - loss: 0.4689 - accuracy: 0.7786 - val_loss: 0.2865 - val_accuracy: 0.9000\n",
      "Epoch 28/50\n",
      "28/28 [==============================] - 12s 433ms/step - loss: 0.5626 - accuracy: 0.7571 - val_loss: 0.3055 - val_accuracy: 0.8500\n",
      "Epoch 29/50\n",
      "28/28 [==============================] - 12s 426ms/step - loss: 0.3692 - accuracy: 0.8643 - val_loss: 0.2909 - val_accuracy: 0.8500\n",
      "Epoch 30/50\n",
      "28/28 [==============================] - 13s 460ms/step - loss: 0.4726 - accuracy: 0.7929 - val_loss: 0.4527 - val_accuracy: 0.8000\n",
      "Epoch 31/50\n",
      "28/28 [==============================] - 17s 598ms/step - loss: 0.4904 - accuracy: 0.7643 - val_loss: 0.1738 - val_accuracy: 1.0000\n",
      "Epoch 32/50\n",
      "28/28 [==============================] - 14s 460ms/step - loss: 0.4785 - accuracy: 0.8143 - val_loss: 0.2069 - val_accuracy: 0.9500\n",
      "Epoch 33/50\n",
      "28/28 [==============================] - 13s 454ms/step - loss: 0.3852 - accuracy: 0.8071 - val_loss: 0.3325 - val_accuracy: 0.8500\n",
      "Epoch 34/50\n",
      "28/28 [==============================] - 12s 394ms/step - loss: 0.3866 - accuracy: 0.8214 - val_loss: 0.2320 - val_accuracy: 0.9000\n",
      "Epoch 35/50\n",
      "28/28 [==============================] - 13s 450ms/step - loss: 0.4970 - accuracy: 0.8357 - val_loss: 0.3716 - val_accuracy: 0.8000\n",
      "Epoch 36/50\n",
      "28/28 [==============================] - 19s 693ms/step - loss: 0.4201 - accuracy: 0.8143 - val_loss: 0.2582 - val_accuracy: 0.8500\n",
      "Epoch 37/50\n",
      "28/28 [==============================] - 20s 691ms/step - loss: 0.4342 - accuracy: 0.8286 - val_loss: 0.3380 - val_accuracy: 0.9000\n",
      "Epoch 38/50\n",
      "28/28 [==============================] - 20s 696ms/step - loss: 0.3740 - accuracy: 0.8071 - val_loss: 0.3509 - val_accuracy: 0.8500\n",
      "Epoch 39/50\n",
      "28/28 [==============================] - 25s 889ms/step - loss: 0.4635 - accuracy: 0.8071 - val_loss: 0.1291 - val_accuracy: 0.9500\n",
      "Epoch 40/50\n",
      "28/28 [==============================] - 26s 916ms/step - loss: 0.4095 - accuracy: 0.7929 - val_loss: 0.2467 - val_accuracy: 0.9500\n",
      "Epoch 41/50\n",
      "28/28 [==============================] - 41s 1s/step - loss: 0.3879 - accuracy: 0.8214 - val_loss: 0.1440 - val_accuracy: 0.9000\n",
      "Epoch 42/50\n",
      "28/28 [==============================] - 35s 1s/step - loss: 0.4532 - accuracy: 0.7786 - val_loss: 0.3688 - val_accuracy: 0.8000\n",
      "Epoch 43/50\n",
      "28/28 [==============================] - 39s 1s/step - loss: 0.5915 - accuracy: 0.7929 - val_loss: 0.1587 - val_accuracy: 0.9500\n",
      "Epoch 44/50\n",
      "28/28 [==============================] - 28s 1000ms/step - loss: 0.3842 - accuracy: 0.8286 - val_loss: 0.6494 - val_accuracy: 0.8000\n",
      "Epoch 45/50\n",
      "28/28 [==============================] - 35s 1s/step - loss: 0.3585 - accuracy: 0.8500 - val_loss: 0.1799 - val_accuracy: 0.9000\n",
      "Epoch 46/50\n",
      "28/28 [==============================] - 29s 1s/step - loss: 0.4008 - accuracy: 0.8357 - val_loss: 0.2637 - val_accuracy: 0.8000\n",
      "Epoch 47/50\n",
      "28/28 [==============================] - 32s 1s/step - loss: 0.3326 - accuracy: 0.8571 - val_loss: 0.2243 - val_accuracy: 0.9000\n",
      "Epoch 48/50\n",
      "28/28 [==============================] - 27s 960ms/step - loss: 0.3882 - accuracy: 0.8357 - val_loss: 0.2567 - val_accuracy: 0.9000\n",
      "Epoch 49/50\n",
      "28/28 [==============================] - 17s 612ms/step - loss: 0.4144 - accuracy: 0.8357 - val_loss: 0.2175 - val_accuracy: 0.9500\n",
      "Epoch 50/50\n",
      "28/28 [==============================] - 15s 529ms/step - loss: 0.3938 - accuracy: 0.8000 - val_loss: 0.3388 - val_accuracy: 0.9000\n"
     ]
    },
    {
     "data": {
      "text/plain": [
       "<keras.callbacks.History at 0x15451b069d0>"
      ]
     },
     "execution_count": 12,
     "metadata": {},
     "output_type": "execute_result"
    }
   ],
   "source": [
    "#this is the augmentation configuration we will use for training\n",
    "model.fit_generator(\n",
    "    train_generator,\n",
    "    steps_per_epoch= nb_train_samples // batch_size,\n",
    "    epochs=epochs,\n",
    "    validation_data= validation_generator,\n",
    "    validation_steps= nb_validation_samples // batch_size\n",
    "    )"
   ]
  },
  {
   "cell_type": "code",
   "execution_count": 31,
   "metadata": {},
   "outputs": [],
   "source": [
    "def predict(path_of_img):\n",
    "    img_pred= image.load_img(path_of_img, target_size= (150,150))\n",
    "    img_pred= image.img_to_array(img_pred)\n",
    "    img_pred= np.expand_dims( img_pred, axis=0)\n",
    "\n",
    "    result = model.predict(img_pred)\n",
    "    if result[0][0]==1:\n",
    "        predictn = \"The above image is watermarked.\"\n",
    "    else:\n",
    "        predictn = \"The above image is not watermarked.\"\n",
    "        \n",
    "    print(result)\n",
    "    print(predictn)\n",
    "\n",
    "    import cv2\n",
    "    img = cv2.imread(path_of_img)\n",
    "    img = cv2.resize(img, (300, 300))\n",
    "    cv2.imshow('image', img)\n",
    "    cv2.waitKey(0)\n",
    "    cv2.destroyAllWindows()\n"
   ]
  },
  {
   "cell_type": "code",
   "execution_count": 43,
   "metadata": {},
   "outputs": [
    {
     "name": "stdout",
     "output_type": "stream",
     "text": [
      "[[1.]]\n",
      "The above image is watermarked.\n"
     ]
    }
   ],
   "source": [
    "predict('dataset/valid/watermarked/100.jpeg')"
   ]
  },
  {
   "cell_type": "code",
   "execution_count": null,
   "metadata": {},
   "outputs": [],
   "source": []
  }
 ],
 "metadata": {
  "interpreter": {
   "hash": "a60110e0a1b5b0ccabeaba7e74cd5ccd282f59ea96c22d1dfc60fe5ad2eb3d04"
  },
  "kernelspec": {
   "display_name": "Python 3",
   "language": "python",
   "name": "python3"
  },
  "language_info": {
   "codemirror_mode": {
    "name": "ipython",
    "version": 3
   },
   "file_extension": ".py",
   "mimetype": "text/x-python",
   "name": "python",
   "nbconvert_exporter": "python",
   "pygments_lexer": "ipython3",
   "version": "3.8.8"
  }
 },
 "nbformat": 4,
 "nbformat_minor": 2
}
